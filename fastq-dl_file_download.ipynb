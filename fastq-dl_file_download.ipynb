{
 "cells": [
  {
   "cell_type": "code",
   "execution_count": null,
   "metadata": {},
   "outputs": [],
   "source": [
    "import subprocess\n",
    "\n",
    "# Read the table and extract genus, species, and SRR number\n",
    "with open(r\"C:\\Users\\irith\\Downloads\\genus_species_srr_table.txt\", 'r') as f:\n",
    "    next(f)  # Skip header\n",
    "    for line in f:\n",
    "        genus, species, srr_number = line.strip().split()\n",
    "\n",
    "        # Run fastq-dl command\n",
    "        cmd = f'fastq-dl {srr_number} -O {genus}_{species}'\n",
    "        subprocess.run(cmd, shell=True)\n",
    "\n",
    "        # Write out filenames\n",
    "        with open(f'{genus}_{species}_filenames.txt', 'w') as outfile:\n",
    "            outfile.write(f'Files downloaded for {genus} {species} (SRR: {srr_number}):\\n')\n",
    "            outfile.write(subprocess.run(f'ls {genus}_{species}', shell=True, capture_output=True, text=True).stdout)\n",
    "            outfile.write('\\n')"
   ]
  }
 ],
 "metadata": {
  "language_info": {
   "name": "python"
  }
 },
 "nbformat": 4,
 "nbformat_minor": 2
}
